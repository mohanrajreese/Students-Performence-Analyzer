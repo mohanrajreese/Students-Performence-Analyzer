{
 "cells": [
  {
   "cell_type": "markdown",
   "metadata": {},
   "source": [
    "# Importing libraries"
   ]
  },
  {
   "cell_type": "code",
   "execution_count": null,
   "metadata": {},
   "outputs": [],
   "source": [
    "import pandas as pd;                        # allows importing data from various file formats & data manipulation operations\r\n",
    "\r\n",
    "import numpy as np;                         # provides support for multi-dimensional arrays.\r\n",
    "\r\n",
    "import numba as nb;                         # just-in-time compiler for Python\r\n",
    "\r\n",
    "import seaborn as sbn;                      # used for making statistical graphics & data viszltion lib built on top of matplotlib\r\n",
    "\r\n",
    "import matplotlib.pyplot as plt;            # creates a figure,creates plotting area in a figure,plots lines in a plotting area\r\n",
    "\r\n",
    "# Displays output inline\r\n",
    "%matplotlib inline       \r\n",
    "\r\n",
    "import warnings;\r\n",
    "# Never display warnings\r\n",
    "warnings.filterwarnings('ignore')"
   ]
  },
  {
   "cell_type": "code",
   "execution_count": null,
   "metadata": {},
   "outputs": [],
   "source": [
    "#Reading Dataset using pandas library\r\n",
    "data = pd.read_csv('Students_dataset.csv')"
   ]
  },
  {
   "cell_type": "code",
   "execution_count": null,
   "metadata": {},
   "outputs": [],
   "source": [
    "#display first 15 rows from the dataset\r\n",
    "data.head(15)"
   ]
  },
  {
   "cell_type": "code",
   "execution_count": null,
   "metadata": {},
   "outputs": [],
   "source": [
    "#shows no of rows , columns  in dataset\r\n",
    "data.shape"
   ]
  },
  {
   "cell_type": "code",
   "execution_count": null,
   "metadata": {},
   "outputs": [],
   "source": [
    "# replacing space with underscore for easy access of columns\r\n",
    "data.columns = data.columns.str.replace(' ','_')"
   ]
  },
  {
   "cell_type": "code",
   "execution_count": null,
   "metadata": {},
   "outputs": [],
   "source": [
    "# displays columns names\r\n",
    "data.columns"
   ]
  },
  {
   "cell_type": "code",
   "execution_count": null,
   "metadata": {},
   "outputs": [],
   "source": [
    "# check for null values\r\n",
    "# isna() is used to detect missing values\r\n",
    "data.isna().sum()        # returns the number of missing values in each columns"
   ]
  },
  {
   "cell_type": "markdown",
   "metadata": {},
   "source": [
    "# Plotting with Single Feature"
   ]
  },
  {
   "cell_type": "code",
   "execution_count": null,
   "metadata": {},
   "outputs": [],
   "source": [
    "#setting up fontsize,plotsize, etc..\r\n",
    "sbn.set(font_scale=2)\r\n",
    "plt.figure(figsize=(8,7))\r\n",
    "sbn.countplot(x='gender',data=data)"
   ]
  },
  {
   "cell_type": "markdown",
   "metadata": {},
   "source": [
    "The dataset contains more no of female than male "
   ]
  },
  {
   "cell_type": "markdown",
   "metadata": {},
   "source": [
    "# Quantity and ratio"
   ]
  },
  {
   "cell_type": "code",
   "execution_count": null,
   "metadata": {},
   "outputs": [],
   "source": [
    "# Displays counts of male and female\r\n",
    "print(data.gender.value_counts())\r\n",
    "print('``````````````````````````````````````')\r\n",
    "print(data.gender.value_counts(normalize = True))"
   ]
  },
  {
   "cell_type": "code",
   "execution_count": null,
   "metadata": {},
   "outputs": [],
   "source": [
    "sbn.set(font_scale=2)\r\n",
    "plt.figure(figsize=(8,7))\r\n",
    "sbn.countplot(x='race/ethnicity', data=data)"
   ]
  },
  {
   "cell_type": "markdown",
   "metadata": {},
   "source": [
    "\"group C\" contains more no. of observations in our dataset"
   ]
  },
  {
   "cell_type": "code",
   "execution_count": null,
   "metadata": {},
   "outputs": [],
   "source": [
    "sbn.set(font_scale=2)\r\n",
    "plt.figure(figsize=(18,8))\r\n",
    "sbn.countplot(x='parental_level_of_education', data=data)"
   ]
  },
  {
   "cell_type": "markdown",
   "metadata": {},
   "source": []
  },
  {
   "cell_type": "code",
   "execution_count": null,
   "metadata": {},
   "outputs": [],
   "source": [
    "sbn.set(font_scale=2)\r\n",
    "plt.figure(figsize=(8,6))\r\n",
    "sbn.countplot(x='lunch',data=data)"
   ]
  },
  {
   "cell_type": "markdown",
   "metadata": {},
   "source": []
  },
  {
   "cell_type": "code",
   "execution_count": null,
   "metadata": {},
   "outputs": [],
   "source": [
    "sbn.set(font_scale=1.4)\r\n",
    "plt.figure(figsize=(7,6))\r\n",
    "sbn.countplot(x='test_preparation_course',data=data)"
   ]
  },
  {
   "cell_type": "markdown",
   "metadata": {},
   "source": [
    "# Plotting with Two Feature"
   ]
  },
  {
   "cell_type": "code",
   "execution_count": null,
   "metadata": {},
   "outputs": [],
   "source": [
    "plt.figure(figsize=(18,8))\r\n",
    "sbn.countplot(x=\"parental_level_of_education\",hue=\"gender\",data=data)\r\n",
    "plt.ylabel('Count of Parental Level of Education')\r\n",
    "plt.legend(bbox_to_anchor=(1.05, 1), loc=2, borderaxespad=0.)"
   ]
  },
  {
   "cell_type": "code",
   "execution_count": null,
   "metadata": {},
   "outputs": [],
   "source": [
    "data.groupby('gender').agg('mean').plot(kind='bar',figsize=(9,7.5))\r\n",
    "plt.legend(bbox_to_anchor=(1.05, 1), loc=2, borderaxespad=0.)"
   ]
  },
  {
   "cell_type": "code",
   "execution_count": null,
   "metadata": {},
   "outputs": [],
   "source": [
    "data.groupby('parental_level_of_education').agg('mean').plot(kind='barh',figsize=(10,10))\r\n",
    "plt.legend(bbox_to_anchor=(1.05, 1), loc=2, borderaxespad=0.)"
   ]
  },
  {
   "cell_type": "code",
   "execution_count": null,
   "metadata": {},
   "outputs": [],
   "source": [
    "data.groupby('test_preparation_course').agg('mean').plot(kind='barh',figsize=(7,7))\r\n",
    "plt.legend(bbox_to_anchor=(1.05, 1), loc=2, borderaxespad=0.)"
   ]
  },
  {
   "cell_type": "code",
   "execution_count": null,
   "metadata": {},
   "outputs": [],
   "source": [
    "data.groupby('lunch').agg('mean').plot(kind='barh',figsize=(7,7))\r\n",
    "plt.legend(bbox_to_anchor=(1.05, 1), loc=2, borderaxespad=0.)"
   ]
  },
  {
   "cell_type": "code",
   "execution_count": null,
   "metadata": {},
   "outputs": [],
   "source": [
    "data.groupby('race/ethnicity').agg('mean').plot(kind='barh',figsize=(9,9))\r\n",
    "plt.legend(bbox_to_anchor=(1.05, 1), loc=2, borderaxespad=0.)"
   ]
  },
  {
   "cell_type": "code",
   "execution_count": null,
   "metadata": {},
   "outputs": [],
   "source": [
    "plt.figure(figsize=(8,5.5))\r\n",
    "sbn.countplot(x='race/ethnicity',hue='test_preparation_course',data=data)\r\n",
    "plt.legend(bbox_to_anchor=(1.05, 1), loc=2, borderaxespad=0.)"
   ]
  },
  {
   "cell_type": "code",
   "execution_count": null,
   "metadata": {},
   "outputs": [],
   "source": [
    "sbn.countplot(x='gender',hue='lunch',data=data)\r\n",
    "plt.legend(bbox_to_anchor=(1.05, 1), loc=2, borderaxespad=0.)"
   ]
  },
  {
   "cell_type": "code",
   "execution_count": null,
   "metadata": {},
   "outputs": [],
   "source": [
    "sbn.countplot(x='gender',hue='test_preparation_course',data=data)\r\n",
    "plt.legend(bbox_to_anchor=(1.05, 1), loc=2, borderaxespad=0.)"
   ]
  },
  {
   "cell_type": "markdown",
   "metadata": {},
   "source": [
    "# plotting with multiple features"
   ]
  },
  {
   "cell_type": "code",
   "execution_count": null,
   "metadata": {},
   "outputs": [],
   "source": [
    "data.groupby(['race/ethnicity','gender']).agg('mean').plot(kind='bar',figsize=(12,8))\r\n",
    "plt.legend(bbox_to_anchor=(1.05, 1), loc=2, borderaxespad=0.)"
   ]
  },
  {
   "cell_type": "code",
   "execution_count": null,
   "metadata": {},
   "outputs": [],
   "source": [
    "data.groupby(['gender','lunch']).agg('mean').plot(kind='bar',figsize=(12,8))\r\n",
    "plt.legend(bbox_to_anchor=(1.05, 1), loc=2, borderaxespad=0.)"
   ]
  },
  {
   "cell_type": "code",
   "execution_count": null,
   "metadata": {},
   "outputs": [],
   "source": [
    "data.groupby(['gender','test_preparation_course']).agg('mean').plot(kind='bar',figsize=(12,8))\r\n",
    "plt.legend(bbox_to_anchor=(1.05, 1), loc=2, borderaxespad=0.)"
   ]
  },
  {
   "cell_type": "code",
   "execution_count": null,
   "metadata": {},
   "outputs": [],
   "source": [
    "data.groupby(['gender','parental_level_of_education']).agg('mean').plot(kind='barh',figsize=(12,10))\r\n",
    "plt.legend(bbox_to_anchor=(1.05, 1), loc=2, borderaxespad=0.)"
   ]
  },
  {
   "cell_type": "code",
   "execution_count": null,
   "metadata": {},
   "outputs": [],
   "source": [
    "data.groupby(['race/ethnicity','parental_level_of_education']).agg('mean').plot(kind='barh',figsize=(12,12))\r\n",
    "plt.legend(bbox_to_anchor=(1.05, 1), loc=2, borderaxespad=0.)"
   ]
  }
 ],
 "metadata": {
  "interpreter": {
   "hash": "590981c5df2294192bb1277f84c89ec3ee31e0055c0bbdff1a12e63019eb9c36"
  },
  "kernelspec": {
   "display_name": "Python 3.9.4 64-bit",
   "name": "python3"
  },
  "language_info": {
   "codemirror_mode": {
    "name": "ipython",
    "version": 3
   },
   "file_extension": ".py",
   "mimetype": "text/x-python",
   "name": "python",
   "nbconvert_exporter": "python",
   "pygments_lexer": "ipython3",
   "version": "3.9.4"
  },
  "orig_nbformat": 4
 },
 "nbformat": 4,
 "nbformat_minor": 2
}