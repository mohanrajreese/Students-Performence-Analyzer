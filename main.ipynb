{
 "cells": [
  {
   "cell_type": "markdown",
   "metadata": {},
   "source": [
    "#importing libraries"
   ]
  },
  {
   "cell_type": "code",
   "execution_count": null,
   "metadata": {},
   "outputs": [],
   "source": [
    "import pandas as pd;                        # allows importing data from various file formats & data manipulation operations\r\n",
    "import numpy as np;                         # provides support for multi-dimensional arrays.\r\n",
    "import numba as nb;                         # just-in-time compiler for Python\r\n",
    "import seaborn as sbn;                      # used for making statistical graphics & data visualization library built on top of matplotlib\r\n",
    "import matplotlib.pyplot as plt;            # reates a figure, creates a plotting area in a figure, plots some lines in a plotting area\r\n",
    "%matplotlib inline                          # Displays output inline\r\n",
    "import warnings;\r\n",
    "warnings.filterwarnings('ignore')\r\n"
   ]
  }
 ],
 "metadata": {
  "interpreter": {
   "hash": "590981c5df2294192bb1277f84c89ec3ee31e0055c0bbdff1a12e63019eb9c36"
  },
  "kernelspec": {
   "display_name": "Python 3.9.4 64-bit",
   "name": "python3"
  },
  "language_info": {
   "name": "python",
   "version": ""
  },
  "orig_nbformat": 4
 },
 "nbformat": 4,
 "nbformat_minor": 2
}